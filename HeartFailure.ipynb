{
  "nbformat": 4,
  "nbformat_minor": 0,
  "metadata": {
    "colab": {
      "name": "HeartFailure.ipynb",
      "provenance": [],
      "collapsed_sections": []
    },
    "kernelspec": {
      "name": "python3",
      "display_name": "Python 3"
    }
  },
  "cells": [
    {
      "cell_type": "markdown",
      "metadata": {
        "id": "aWPUCrQzuYzB"
      },
      "source": [
        "This is the notebook I created for data analysis, charts, and processing to model building, training, and accuracy testing."
      ]
    },
    {
      "cell_type": "code",
      "metadata": {
        "id": "j2jO3sZa1t_2"
      },
      "source": [
        "%tensorflow_version 2.x"
      ],
      "execution_count": null,
      "outputs": []
    },
    {
      "cell_type": "code",
      "metadata": {
        "id": "JH3j15ZC2JB6",
        "colab": {
          "base_uri": "https://localhost:8080/"
        },
        "outputId": "62e23d4a-3eac-4fd8-cafa-6abc60495555"
      },
      "source": [
        "import numpy as np\n",
        "import pandas as pd\n",
        "import tensorflow as tf\n",
        "from tensorflow import feature_column\n",
        "from tensorflow.keras import layers\n",
        "from matplotlib import pyplot as plt\n",
        "import seaborn as sns\n",
        "print(\"Imported All Libraries\")"
      ],
      "execution_count": null,
      "outputs": [
        {
          "output_type": "stream",
          "text": [
            "Imported All Libraries\n"
          ],
          "name": "stdout"
        }
      ]
    },
    {
      "cell_type": "code",
      "metadata": {
        "id": "bTFg6g_q2gcy",
        "colab": {
          "base_uri": "https://localhost:8080/"
        },
        "outputId": "8854b1be-3c71-43c3-ebcd-f3423a1ddc65"
      },
      "source": [
        "dataframe = pd.read_csv(\"https://drive.google.com/uc?export=download&id=1Z6VGqFerTHreeIRW6e01vd3hkA76U3xf\")\n",
        "dataframe.sample(frac=1)\n",
        "print(\"Read Heart Failure CSV\")"
      ],
      "execution_count": null,
      "outputs": [
        {
          "output_type": "stream",
          "text": [
            "Read Heart Failure CSV\n"
          ],
          "name": "stdout"
        }
      ]
    },
    {
      "cell_type": "code",
      "metadata": {
        "colab": {
          "base_uri": "https://localhost:8080/",
          "height": 204
        },
        "id": "nsXBgkxN4c9u",
        "outputId": "feec2f1d-18e4-4b3a-aefb-dff23c464a38"
      },
      "source": [
        "# show first 5 records\n",
        "dataframe.head()"
      ],
      "execution_count": null,
      "outputs": [
        {
          "output_type": "execute_result",
          "data": {
            "text/html": [
              "<div>\n",
              "<style scoped>\n",
              "    .dataframe tbody tr th:only-of-type {\n",
              "        vertical-align: middle;\n",
              "    }\n",
              "\n",
              "    .dataframe tbody tr th {\n",
              "        vertical-align: top;\n",
              "    }\n",
              "\n",
              "    .dataframe thead th {\n",
              "        text-align: right;\n",
              "    }\n",
              "</style>\n",
              "<table border=\"1\" class=\"dataframe\">\n",
              "  <thead>\n",
              "    <tr style=\"text-align: right;\">\n",
              "      <th></th>\n",
              "      <th>age</th>\n",
              "      <th>anaemia</th>\n",
              "      <th>creatinine_phosphokinase</th>\n",
              "      <th>diabetes</th>\n",
              "      <th>ejection_fraction</th>\n",
              "      <th>high_blood_pressure</th>\n",
              "      <th>platelets</th>\n",
              "      <th>serum_creatinine</th>\n",
              "      <th>serum_sodium</th>\n",
              "      <th>sex</th>\n",
              "      <th>smoking</th>\n",
              "      <th>time</th>\n",
              "      <th>DEATH_EVENT</th>\n",
              "    </tr>\n",
              "  </thead>\n",
              "  <tbody>\n",
              "    <tr>\n",
              "      <th>0</th>\n",
              "      <td>75.0</td>\n",
              "      <td>0</td>\n",
              "      <td>582</td>\n",
              "      <td>0</td>\n",
              "      <td>20</td>\n",
              "      <td>1</td>\n",
              "      <td>265000.00</td>\n",
              "      <td>1.9</td>\n",
              "      <td>130</td>\n",
              "      <td>1</td>\n",
              "      <td>0</td>\n",
              "      <td>4</td>\n",
              "      <td>1</td>\n",
              "    </tr>\n",
              "    <tr>\n",
              "      <th>1</th>\n",
              "      <td>55.0</td>\n",
              "      <td>0</td>\n",
              "      <td>7861</td>\n",
              "      <td>0</td>\n",
              "      <td>38</td>\n",
              "      <td>0</td>\n",
              "      <td>263358.03</td>\n",
              "      <td>1.1</td>\n",
              "      <td>136</td>\n",
              "      <td>1</td>\n",
              "      <td>0</td>\n",
              "      <td>6</td>\n",
              "      <td>1</td>\n",
              "    </tr>\n",
              "    <tr>\n",
              "      <th>2</th>\n",
              "      <td>65.0</td>\n",
              "      <td>0</td>\n",
              "      <td>146</td>\n",
              "      <td>0</td>\n",
              "      <td>20</td>\n",
              "      <td>0</td>\n",
              "      <td>162000.00</td>\n",
              "      <td>1.3</td>\n",
              "      <td>129</td>\n",
              "      <td>1</td>\n",
              "      <td>1</td>\n",
              "      <td>7</td>\n",
              "      <td>1</td>\n",
              "    </tr>\n",
              "    <tr>\n",
              "      <th>3</th>\n",
              "      <td>50.0</td>\n",
              "      <td>1</td>\n",
              "      <td>111</td>\n",
              "      <td>0</td>\n",
              "      <td>20</td>\n",
              "      <td>0</td>\n",
              "      <td>210000.00</td>\n",
              "      <td>1.9</td>\n",
              "      <td>137</td>\n",
              "      <td>1</td>\n",
              "      <td>0</td>\n",
              "      <td>7</td>\n",
              "      <td>1</td>\n",
              "    </tr>\n",
              "    <tr>\n",
              "      <th>4</th>\n",
              "      <td>65.0</td>\n",
              "      <td>1</td>\n",
              "      <td>160</td>\n",
              "      <td>1</td>\n",
              "      <td>20</td>\n",
              "      <td>0</td>\n",
              "      <td>327000.00</td>\n",
              "      <td>2.7</td>\n",
              "      <td>116</td>\n",
              "      <td>0</td>\n",
              "      <td>0</td>\n",
              "      <td>8</td>\n",
              "      <td>1</td>\n",
              "    </tr>\n",
              "  </tbody>\n",
              "</table>\n",
              "</div>"
            ],
            "text/plain": [
              "    age  anaemia  creatinine_phosphokinase  ...  smoking  time  DEATH_EVENT\n",
              "0  75.0        0                       582  ...        0     4            1\n",
              "1  55.0        0                      7861  ...        0     6            1\n",
              "2  65.0        0                       146  ...        1     7            1\n",
              "3  50.0        1                       111  ...        0     7            1\n",
              "4  65.0        1                       160  ...        0     8            1\n",
              "\n",
              "[5 rows x 13 columns]"
            ]
          },
          "metadata": {
            "tags": []
          },
          "execution_count": 23
        }
      ]
    },
    {
      "cell_type": "code",
      "metadata": {
        "colab": {
          "base_uri": "https://localhost:8080/"
        },
        "id": "-FFlDwMR4yRD",
        "outputId": "c7e8891e-ccc0-4743-bb03-c3b3b42734b7"
      },
      "source": [
        "# view column info\n",
        "# our data is all numeric (int, float)\n",
        "# we have 11 potential features\n",
        "# DEATH_EVENT serves as the label for each record\n",
        "# no null values present in whole dataset\n",
        "dataframe.info()"
      ],
      "execution_count": null,
      "outputs": [
        {
          "output_type": "stream",
          "text": [
            "<class 'pandas.core.frame.DataFrame'>\n",
            "RangeIndex: 299 entries, 0 to 298\n",
            "Data columns (total 13 columns):\n",
            " #   Column                    Non-Null Count  Dtype  \n",
            "---  ------                    --------------  -----  \n",
            " 0   age                       299 non-null    float64\n",
            " 1   anaemia                   299 non-null    int64  \n",
            " 2   creatinine_phosphokinase  299 non-null    int64  \n",
            " 3   diabetes                  299 non-null    int64  \n",
            " 4   ejection_fraction         299 non-null    int64  \n",
            " 5   high_blood_pressure       299 non-null    int64  \n",
            " 6   platelets                 299 non-null    float64\n",
            " 7   serum_creatinine          299 non-null    float64\n",
            " 8   serum_sodium              299 non-null    int64  \n",
            " 9   sex                       299 non-null    int64  \n",
            " 10  smoking                   299 non-null    int64  \n",
            " 11  time                      299 non-null    int64  \n",
            " 12  DEATH_EVENT               299 non-null    int64  \n",
            "dtypes: float64(3), int64(10)\n",
            "memory usage: 30.5 KB\n"
          ],
          "name": "stdout"
        }
      ]
    },
    {
      "cell_type": "code",
      "metadata": {
        "colab": {
          "base_uri": "https://localhost:8080/",
          "height": 317
        },
        "id": "VKIVRHLB5MRZ",
        "outputId": "ba2896fa-81da-43ba-ce83-0e01ba6fd508"
      },
      "source": [
        "# overview of column stats\n",
        "dataframe.describe()"
      ],
      "execution_count": null,
      "outputs": [
        {
          "output_type": "execute_result",
          "data": {
            "text/html": [
              "<div>\n",
              "<style scoped>\n",
              "    .dataframe tbody tr th:only-of-type {\n",
              "        vertical-align: middle;\n",
              "    }\n",
              "\n",
              "    .dataframe tbody tr th {\n",
              "        vertical-align: top;\n",
              "    }\n",
              "\n",
              "    .dataframe thead th {\n",
              "        text-align: right;\n",
              "    }\n",
              "</style>\n",
              "<table border=\"1\" class=\"dataframe\">\n",
              "  <thead>\n",
              "    <tr style=\"text-align: right;\">\n",
              "      <th></th>\n",
              "      <th>age</th>\n",
              "      <th>anaemia</th>\n",
              "      <th>creatinine_phosphokinase</th>\n",
              "      <th>diabetes</th>\n",
              "      <th>ejection_fraction</th>\n",
              "      <th>high_blood_pressure</th>\n",
              "      <th>platelets</th>\n",
              "      <th>serum_creatinine</th>\n",
              "      <th>serum_sodium</th>\n",
              "      <th>sex</th>\n",
              "      <th>smoking</th>\n",
              "      <th>time</th>\n",
              "      <th>DEATH_EVENT</th>\n",
              "    </tr>\n",
              "  </thead>\n",
              "  <tbody>\n",
              "    <tr>\n",
              "      <th>count</th>\n",
              "      <td>299.000000</td>\n",
              "      <td>299.000000</td>\n",
              "      <td>299.000000</td>\n",
              "      <td>299.000000</td>\n",
              "      <td>299.000000</td>\n",
              "      <td>299.000000</td>\n",
              "      <td>299.000000</td>\n",
              "      <td>299.00000</td>\n",
              "      <td>299.000000</td>\n",
              "      <td>299.000000</td>\n",
              "      <td>299.00000</td>\n",
              "      <td>299.000000</td>\n",
              "      <td>299.00000</td>\n",
              "    </tr>\n",
              "    <tr>\n",
              "      <th>mean</th>\n",
              "      <td>60.833893</td>\n",
              "      <td>0.431438</td>\n",
              "      <td>581.839465</td>\n",
              "      <td>0.418060</td>\n",
              "      <td>38.083612</td>\n",
              "      <td>0.351171</td>\n",
              "      <td>263358.029264</td>\n",
              "      <td>1.39388</td>\n",
              "      <td>136.625418</td>\n",
              "      <td>0.648829</td>\n",
              "      <td>0.32107</td>\n",
              "      <td>130.260870</td>\n",
              "      <td>0.32107</td>\n",
              "    </tr>\n",
              "    <tr>\n",
              "      <th>std</th>\n",
              "      <td>11.894809</td>\n",
              "      <td>0.496107</td>\n",
              "      <td>970.287881</td>\n",
              "      <td>0.494067</td>\n",
              "      <td>11.834841</td>\n",
              "      <td>0.478136</td>\n",
              "      <td>97804.236869</td>\n",
              "      <td>1.03451</td>\n",
              "      <td>4.412477</td>\n",
              "      <td>0.478136</td>\n",
              "      <td>0.46767</td>\n",
              "      <td>77.614208</td>\n",
              "      <td>0.46767</td>\n",
              "    </tr>\n",
              "    <tr>\n",
              "      <th>min</th>\n",
              "      <td>40.000000</td>\n",
              "      <td>0.000000</td>\n",
              "      <td>23.000000</td>\n",
              "      <td>0.000000</td>\n",
              "      <td>14.000000</td>\n",
              "      <td>0.000000</td>\n",
              "      <td>25100.000000</td>\n",
              "      <td>0.50000</td>\n",
              "      <td>113.000000</td>\n",
              "      <td>0.000000</td>\n",
              "      <td>0.00000</td>\n",
              "      <td>4.000000</td>\n",
              "      <td>0.00000</td>\n",
              "    </tr>\n",
              "    <tr>\n",
              "      <th>25%</th>\n",
              "      <td>51.000000</td>\n",
              "      <td>0.000000</td>\n",
              "      <td>116.500000</td>\n",
              "      <td>0.000000</td>\n",
              "      <td>30.000000</td>\n",
              "      <td>0.000000</td>\n",
              "      <td>212500.000000</td>\n",
              "      <td>0.90000</td>\n",
              "      <td>134.000000</td>\n",
              "      <td>0.000000</td>\n",
              "      <td>0.00000</td>\n",
              "      <td>73.000000</td>\n",
              "      <td>0.00000</td>\n",
              "    </tr>\n",
              "    <tr>\n",
              "      <th>50%</th>\n",
              "      <td>60.000000</td>\n",
              "      <td>0.000000</td>\n",
              "      <td>250.000000</td>\n",
              "      <td>0.000000</td>\n",
              "      <td>38.000000</td>\n",
              "      <td>0.000000</td>\n",
              "      <td>262000.000000</td>\n",
              "      <td>1.10000</td>\n",
              "      <td>137.000000</td>\n",
              "      <td>1.000000</td>\n",
              "      <td>0.00000</td>\n",
              "      <td>115.000000</td>\n",
              "      <td>0.00000</td>\n",
              "    </tr>\n",
              "    <tr>\n",
              "      <th>75%</th>\n",
              "      <td>70.000000</td>\n",
              "      <td>1.000000</td>\n",
              "      <td>582.000000</td>\n",
              "      <td>1.000000</td>\n",
              "      <td>45.000000</td>\n",
              "      <td>1.000000</td>\n",
              "      <td>303500.000000</td>\n",
              "      <td>1.40000</td>\n",
              "      <td>140.000000</td>\n",
              "      <td>1.000000</td>\n",
              "      <td>1.00000</td>\n",
              "      <td>203.000000</td>\n",
              "      <td>1.00000</td>\n",
              "    </tr>\n",
              "    <tr>\n",
              "      <th>max</th>\n",
              "      <td>95.000000</td>\n",
              "      <td>1.000000</td>\n",
              "      <td>7861.000000</td>\n",
              "      <td>1.000000</td>\n",
              "      <td>80.000000</td>\n",
              "      <td>1.000000</td>\n",
              "      <td>850000.000000</td>\n",
              "      <td>9.40000</td>\n",
              "      <td>148.000000</td>\n",
              "      <td>1.000000</td>\n",
              "      <td>1.00000</td>\n",
              "      <td>285.000000</td>\n",
              "      <td>1.00000</td>\n",
              "    </tr>\n",
              "  </tbody>\n",
              "</table>\n",
              "</div>"
            ],
            "text/plain": [
              "              age     anaemia  ...        time  DEATH_EVENT\n",
              "count  299.000000  299.000000  ...  299.000000    299.00000\n",
              "mean    60.833893    0.431438  ...  130.260870      0.32107\n",
              "std     11.894809    0.496107  ...   77.614208      0.46767\n",
              "min     40.000000    0.000000  ...    4.000000      0.00000\n",
              "25%     51.000000    0.000000  ...   73.000000      0.00000\n",
              "50%     60.000000    0.000000  ...  115.000000      0.00000\n",
              "75%     70.000000    1.000000  ...  203.000000      1.00000\n",
              "max     95.000000    1.000000  ...  285.000000      1.00000\n",
              "\n",
              "[8 rows x 13 columns]"
            ]
          },
          "metadata": {
            "tags": []
          },
          "execution_count": 25
        }
      ]
    },
    {
      "cell_type": "code",
      "metadata": {
        "colab": {
          "base_uri": "https://localhost:8080/",
          "height": 733
        },
        "id": "YZFZ2Hsf8oAZ",
        "outputId": "fe759177-6db7-426f-f5d3-5a77920f0692"
      },
      "source": [
        "# view a heat map of the correlations of all the data\n",
        "# this will show any correlations between each column \n",
        "# we can use this to see how the 11 potential features correlate to the label\n",
        "# we can use the rightmost column of correlations to determine features to use\n",
        "correlations = dataframe.corr()\n",
        "plt.figure(figsize=[15, 10])\n",
        "sns.heatmap(correlations, vmin=-1, annot=True, cmap='RdBu')"
      ],
      "execution_count": null,
      "outputs": [
        {
          "output_type": "execute_result",
          "data": {
            "text/plain": [
              "<matplotlib.axes._subplots.AxesSubplot at 0x7f4f24325278>"
            ]
          },
          "metadata": {
            "tags": []
          },
          "execution_count": 26
        },
        {
          "output_type": "display_data",
          "data": {
            "image/png": "[encoded data removed]",
            "text/plain": [
              "<Figure size 1080x720 with 2 Axes>"
            ]
          },
          "metadata": {
            "tags": [],
            "needs_background": "light"
          }
        }
      ]
    },
    {
      "cell_type": "code",
      "metadata": {
        "colab": {
          "base_uri": "https://localhost:8080/"
        },
        "id": "T9EEA1EQEMlI",
        "outputId": "893477e4-8259-44b6-f5df-f8bc824d118d"
      },
      "source": [
        "# the following columns seem to correlate the most to death event\n",
        "# time, serum_creatinine, ejection_fraction, age, serum_sodium\n",
        "death_event_corr = abs(correlations[\"DEATH_EVENT\"])\n",
        "sorted = death_event_corr.sort_values(ascending=False)\n",
        "print(sorted)"
      ],
      "execution_count": null,
      "outputs": [
        {
          "output_type": "stream",
          "text": [
            "DEATH_EVENT                 1.000000\n",
            "time                        0.526964\n",
            "serum_creatinine            0.294278\n",
            "ejection_fraction           0.268603\n",
            "age                         0.253729\n",
            "serum_sodium                0.195204\n",
            "high_blood_pressure         0.079351\n",
            "anaemia                     0.066270\n",
            "creatinine_phosphokinase    0.062728\n",
            "platelets                   0.049139\n",
            "smoking                     0.012623\n",
            "sex                         0.004316\n",
            "diabetes                    0.001943\n",
            "Name: DEATH_EVENT, dtype: float64\n"
          ],
          "name": "stdout"
        }
      ]
    },
    {
      "cell_type": "code",
      "metadata": {
        "colab": {
          "base_uri": "https://localhost:8080/",
          "height": 204
        },
        "id": "9umR2WSXHkjq",
        "outputId": "1a0752ad-177d-4742-f8e3-246edce4fc4f"
      },
      "source": [
        "# we will use these rows as our features\n",
        "# note that we are not considering the time column\n",
        "# time represents the length of the follow-up period, which was shorter if a patient died (ending the follow-up period)\n",
        "# our model predicts survivability as an early detection measure, so time shouldn't be considered\n",
        "heart_data = dataframe.filter(['serum_creatinine', 'ejection_fraction', 'age', 'serum_sodium'], axis=1)\n",
        "heart_data.head()"
      ],
      "execution_count": null,
      "outputs": [
        {
          "output_type": "execute_result",
          "data": {
            "text/html": [
              "<div>\n",
              "<style scoped>\n",
              "    .dataframe tbody tr th:only-of-type {\n",
              "        vertical-align: middle;\n",
              "    }\n",
              "\n",
              "    .dataframe tbody tr th {\n",
              "        vertical-align: top;\n",
              "    }\n",
              "\n",
              "    .dataframe thead th {\n",
              "        text-align: right;\n",
              "    }\n",
              "</style>\n",
              "<table border=\"1\" class=\"dataframe\">\n",
              "  <thead>\n",
              "    <tr style=\"text-align: right;\">\n",
              "      <th></th>\n",
              "      <th>serum_creatinine</th>\n",
              "      <th>ejection_fraction</th>\n",
              "      <th>age</th>\n",
              "      <th>serum_sodium</th>\n",
              "    </tr>\n",
              "  </thead>\n",
              "  <tbody>\n",
              "    <tr>\n",
              "      <th>0</th>\n",
              "      <td>1.9</td>\n",
              "      <td>20</td>\n",
              "      <td>75.0</td>\n",
              "      <td>130</td>\n",
              "    </tr>\n",
              "    <tr>\n",
              "      <th>1</th>\n",
              "      <td>1.1</td>\n",
              "      <td>38</td>\n",
              "      <td>55.0</td>\n",
              "      <td>136</td>\n",
              "    </tr>\n",
              "    <tr>\n",
              "      <th>2</th>\n",
              "      <td>1.3</td>\n",
              "      <td>20</td>\n",
              "      <td>65.0</td>\n",
              "      <td>129</td>\n",
              "    </tr>\n",
              "    <tr>\n",
              "      <th>3</th>\n",
              "      <td>1.9</td>\n",
              "      <td>20</td>\n",
              "      <td>50.0</td>\n",
              "      <td>137</td>\n",
              "    </tr>\n",
              "    <tr>\n",
              "      <th>4</th>\n",
              "      <td>2.7</td>\n",
              "      <td>20</td>\n",
              "      <td>65.0</td>\n",
              "      <td>116</td>\n",
              "    </tr>\n",
              "  </tbody>\n",
              "</table>\n",
              "</div>"
            ],
            "text/plain": [
              "   serum_creatinine  ejection_fraction   age  serum_sodium\n",
              "0               1.9                 20  75.0           130\n",
              "1               1.1                 38  55.0           136\n",
              "2               1.3                 20  65.0           129\n",
              "3               1.9                 20  50.0           137\n",
              "4               2.7                 20  65.0           116"
            ]
          },
          "metadata": {
            "tags": []
          },
          "execution_count": 28
        }
      ]
    },
    {
      "cell_type": "code",
      "metadata": {
        "colab": {
          "base_uri": "https://localhost:8080/",
          "height": 204
        },
        "id": "ZT99dFXVFd8E",
        "outputId": "86784504-f935-4249-8e31-d38a4718a914"
      },
      "source": [
        "# feature engineering: now we should normalize the features as z-scores so they are on the same scale\n",
        "# without normalization, the model will not train properly\n",
        "mean = heart_data.mean()\n",
        "std_dev = heart_data.std()\n",
        "normalized = (heart_data - mean) / std_dev\n",
        "normalized[\"death_event\"] = dataframe[\"DEATH_EVENT\"]\n",
        "normalized.head()"
      ],
      "execution_count": null,
      "outputs": [
        {
          "output_type": "execute_result",
          "data": {
            "text/html": [
              "<div>\n",
              "<style scoped>\n",
              "    .dataframe tbody tr th:only-of-type {\n",
              "        vertical-align: middle;\n",
              "    }\n",
              "\n",
              "    .dataframe tbody tr th {\n",
              "        vertical-align: top;\n",
              "    }\n",
              "\n",
              "    .dataframe thead th {\n",
              "        text-align: right;\n",
              "    }\n",
              "</style>\n",
              "<table border=\"1\" class=\"dataframe\">\n",
              "  <thead>\n",
              "    <tr style=\"text-align: right;\">\n",
              "      <th></th>\n",
              "      <th>serum_creatinine</th>\n",
              "      <th>ejection_fraction</th>\n",
              "      <th>age</th>\n",
              "      <th>serum_sodium</th>\n",
              "      <th>death_event</th>\n",
              "    </tr>\n",
              "  </thead>\n",
              "  <tbody>\n",
              "    <tr>\n",
              "      <th>0</th>\n",
              "      <td>0.489237</td>\n",
              "      <td>-1.527998</td>\n",
              "      <td>1.190949</td>\n",
              "      <td>-1.501519</td>\n",
              "      <td>1</td>\n",
              "    </tr>\n",
              "    <tr>\n",
              "      <th>1</th>\n",
              "      <td>-0.284076</td>\n",
              "      <td>-0.007065</td>\n",
              "      <td>-0.490457</td>\n",
              "      <td>-0.141739</td>\n",
              "      <td>1</td>\n",
              "    </tr>\n",
              "    <tr>\n",
              "      <th>2</th>\n",
              "      <td>-0.090748</td>\n",
              "      <td>-1.527998</td>\n",
              "      <td>0.350246</td>\n",
              "      <td>-1.728149</td>\n",
              "      <td>1</td>\n",
              "    </tr>\n",
              "    <tr>\n",
              "      <th>3</th>\n",
              "      <td>0.489237</td>\n",
              "      <td>-1.527998</td>\n",
              "      <td>-0.910808</td>\n",
              "      <td>0.084892</td>\n",
              "      <td>1</td>\n",
              "    </tr>\n",
              "    <tr>\n",
              "      <th>4</th>\n",
              "      <td>1.262550</td>\n",
              "      <td>-1.527998</td>\n",
              "      <td>0.350246</td>\n",
              "      <td>-4.674340</td>\n",
              "      <td>1</td>\n",
              "    </tr>\n",
              "  </tbody>\n",
              "</table>\n",
              "</div>"
            ],
            "text/plain": [
              "   serum_creatinine  ejection_fraction       age  serum_sodium  death_event\n",
              "0          0.489237          -1.527998  1.190949     -1.501519            1\n",
              "1         -0.284076          -0.007065 -0.490457     -0.141739            1\n",
              "2         -0.090748          -1.527998  0.350246     -1.728149            1\n",
              "3          0.489237          -1.527998 -0.910808      0.084892            1\n",
              "4          1.262550          -1.527998  0.350246     -4.674340            1"
            ]
          },
          "metadata": {
            "tags": []
          },
          "execution_count": 29
        }
      ]
    },
    {
      "cell_type": "code",
      "metadata": {
        "colab": {
          "base_uri": "https://localhost:8080/"
        },
        "id": "vH2WI50VNhIQ",
        "outputId": "127398a6-b3d3-4546-a31b-051c016e06fc"
      },
      "source": [
        "# split dataset into training and test\n",
        "split = 250\n",
        "training_data = normalized[:split]\n",
        "test_data = normalized[split:]\n",
        "print(\"Training data records: {}\".format(len(training_data.index)))\n",
        "print(\"Test data records: {}\".format(len(test_data.index)))"
      ],
      "execution_count": null,
      "outputs": [
        {
          "output_type": "stream",
          "text": [
            "Training data records: 250\n",
            "Test data records: 49\n"
          ],
          "name": "stdout"
        }
      ]
    },
    {
      "cell_type": "code",
      "metadata": {
        "colab": {
          "base_uri": "https://localhost:8080/"
        },
        "id": "-GSAWPvSJE0Z",
        "outputId": "8d8b37d2-4b80-4474-9788-80e911a39d5a"
      },
      "source": [
        "# represent features in feature columns\n",
        "feature_columns = []\n",
        "\n",
        "# time = tf.feature_column.numeric_column(\"time\")\n",
        "serum_creatinine = tf.feature_column.numeric_column(\"serum_creatinine\")\n",
        "ejection_fraction = tf.feature_column.numeric_column(\"ejection_fraction\")\n",
        "age = tf.feature_column.numeric_column(\"age\")\n",
        "serum_sodium = tf.feature_column.numeric_column(\"serum_sodium\")\n",
        "# feature_columns.append(time)\n",
        "feature_columns.append(serum_creatinine)\n",
        "feature_columns.append(ejection_fraction)\n",
        "feature_columns.append(age)\n",
        "feature_columns.append(serum_sodium)\n",
        "\n",
        "# convert the features columns into a layer that will be fed into the model\n",
        "feature_layer = layers.DenseFeatures(feature_columns)\n",
        "\n",
        "# print layer output when applied to some training data\n",
        "feature_layer(dict(training_data))"
      ],
      "execution_count": null,
      "outputs": [
        {
          "output_type": "execute_result",
          "data": {
            "text/plain": [
              "<tf.Tensor: shape=(250, 4), dtype=float32, numpy=\n",
              "array([[ 1.19094872e+00, -1.52799797e+00,  4.89236802e-01,\n",
              "        -1.50151885e+00],\n",
              "       [-4.90457058e-01, -7.06490641e-03, -2.84076124e-01,\n",
              "        -1.41738534e-01],\n",
              "       [ 3.50245804e-01, -1.52799797e+00, -9.07478854e-02,\n",
              "        -1.72814894e+00],\n",
              "       [-9.10808504e-01, -1.52799797e+00,  4.89236802e-01,\n",
              "         8.48915279e-02],\n",
              "       [ 3.50245804e-01, -1.52799797e+00,  1.26254976e+00,\n",
              "        -4.67433977e+00],\n",
              "       [ 2.45200300e+00,  1.61927655e-01,  6.82565033e-01,\n",
              "        -1.04825878e+00],\n",
              "       [ 1.19094872e+00, -1.95047927e+00, -1.87411994e-01,\n",
              "         8.48915279e-02],\n",
              "       [-7.01056197e-02,  1.85185325e+00, -2.84076124e-01,\n",
              "        -1.27488887e+00],\n",
              "       [ 3.50245804e-01,  2.27433467e+00,  1.02580346e-01,\n",
              "         3.11521590e-01],\n",
              "       [ 1.61130011e+00, -2.60553747e-01,  7.73904562e+00,\n",
              "        -8.21628690e-01],\n",
              "       [ 1.19094872e+00, -7.06490641e-03,  2.51918316e+00,\n",
              "        -1.27488887e+00],\n",
              "       [ 9.80349481e-02, -1.10551655e+00, -4.77404356e-01,\n",
              "         7.64781713e-01],\n",
              "       [-1.33115995e+00, -6.83035135e-01, -2.84076124e-01,\n",
              "         8.48915279e-02],\n",
              "       [-9.10808504e-01, -7.06490641e-03, -2.84076124e-01,\n",
              "         8.48915279e-02],\n",
              "       [-9.94878769e-01, -6.83035135e-01, -3.80740225e-01,\n",
              "         3.11521590e-01],\n",
              "       [ 1.77944064e+00,  1.00689042e+00, -9.07478854e-02,\n",
              "        -1.41738534e-01],\n",
              "       [ 2.19979215e+00, -7.06490641e-03, -4.77404356e-01,\n",
              "         7.64781713e-01],\n",
              "       [-1.33115995e+00, -2.03497553e+00, -5.74068487e-01,\n",
              "        -2.18140912e+00],\n",
              "       [ 7.70597219e-01, -1.10551655e+00, -3.80740225e-01,\n",
              "         7.64781713e-01],\n",
              "       [-1.07894909e+00,  1.42937183e+00,  4.89236802e-01,\n",
              "        -3.54118943e+00],\n",
              "       [ 3.50245804e-01, -1.10551655e+00, -9.07478854e-02,\n",
              "         8.48915279e-02],\n",
              "       [ 3.50245804e-01, -6.83035135e-01,  1.99244469e-01,\n",
              "        -1.41738534e-01],\n",
              "       [ 6.02456689e-01, -2.60553747e-01, -4.77404356e-01,\n",
              "         7.64781713e-01],\n",
              "       [-6.58597648e-01,  1.85185325e+00, -5.74068487e-01,\n",
              "        -3.68368596e-01],\n",
              "       [ 1.19094872e+00, -6.83035135e-01,  4.21571940e-01,\n",
              "        -5.94998658e-01],\n",
              "       [ 1.61130011e+00, -7.06490641e-03,  4.89236802e-01,\n",
              "         1.67130196e+00],\n",
              "       [ 2.87235427e+00,  1.61927655e-01, -3.80740225e-01,\n",
              "         3.11521590e-01],\n",
              "       [ 7.70597219e-01,  5.84409058e-01, -9.07478854e-02,\n",
              "        -1.41738534e-01],\n",
              "       [-2.38246188e-01, -7.06490641e-03,  4.25913715e+00,\n",
              "        -5.94998658e-01],\n",
              "       [ 1.77944064e+00, -6.83035135e-01, -1.87411994e-01,\n",
              "        -1.04825878e+00],\n",
              "       [ 2.78828406e+00, -7.06490641e-03,  4.21571940e-01,\n",
              "        -5.94998658e-01],\n",
              "       [ 2.03165150e+00,  5.84409058e-01,  1.55254209e+00,\n",
              "        -1.04825878e+00],\n",
              "       [-9.10808504e-01, -2.60553747e-01, -3.80740225e-01,\n",
              "        -1.95477903e+00],\n",
              "       [-9.10808504e-01, -6.83035135e-01, -1.87411994e-01,\n",
              "         3.11521590e-01],\n",
              "       [ 3.50245804e-01,  1.00689042e+00, -3.80740225e-01,\n",
              "         7.64781713e-01],\n",
              "       [ 6.86526954e-01, -2.60553747e-01,  2.03586268e+00,\n",
              "        -5.94998658e-01],\n",
              "       [ 2.45200300e+00,  1.00689042e+00, -3.80740225e-01,\n",
              "        -5.94998658e-01],\n",
              "       [ 1.77944064e+00,  1.00689042e+00, -3.80740225e-01,\n",
              "         1.89793205e+00],\n",
              "       [-7.01056197e-02, -6.83035135e-01,  8.75893295e-01,\n",
              "         8.48915279e-02],\n",
              "       [-7.01056197e-02, -7.06490641e-03,  1.55254209e+00,\n",
              "         1.21804190e+00],\n",
              "       [ 7.70597219e-01, -1.52799797e+00,  4.21571940e-01,\n",
              "        -5.94998658e-01],\n",
              "       [-9.10808504e-01, -6.83035135e-01, -1.87411994e-01,\n",
              "        -1.41738534e-01],\n",
              "       [ 7.70597219e-01,  5.84409058e-01, -1.87411994e-01,\n",
              "         5.38151681e-01],\n",
              "       [ 9.38737810e-01,  1.00689042e+00, -3.80740225e-01,\n",
              "        -5.94998658e-01],\n",
              "       [-7.01056197e-02,  1.85185325e+00, -2.84076124e-01,\n",
              "         1.21804190e+00],\n",
              "       [-9.10808504e-01, -7.06490641e-03,  4.89236802e-01,\n",
              "        -3.68368596e-01],\n",
              "       [-8.26738179e-01, -1.10551655e+00, -4.77404356e-01,\n",
              "        -1.50151885e+00],\n",
              "       [-7.01056197e-02, -7.06490641e-03, -7.67396688e-01,\n",
              "         3.11521590e-01],\n",
              "       [ 1.61130011e+00, -1.52799797e+00,  2.90583968e+00,\n",
              "        -8.21628690e-01],\n",
              "       [-3.22316468e-01, -6.83035135e-01, -3.80740225e-01,\n",
              "         7.64781713e-01],\n",
              "       [ 6.02456689e-01, -1.10551655e+00, -3.80740225e-01,\n",
              "         3.11521590e-01],\n",
              "       [-6.58597648e-01, -1.52799797e+00,  5.91623178e-03,\n",
              "         5.38151681e-01],\n",
              "       [-7.01056197e-02,  2.02084589e+00,  5.22577858e+00,\n",
              "         2.12456203e+00],\n",
              "       [ 7.70597219e-01,  1.00689042e+00, -3.80740225e-01,\n",
              "        -5.94998658e-01],\n",
              "       [-7.01056197e-02, -7.06490641e-03,  7.79229164e-01,\n",
              "        -1.04825878e+00],\n",
              "       [ 2.87235427e+00, -6.83035135e-01,  5.85900903e-01,\n",
              "        -1.04825878e+00],\n",
              "       [ 7.70597219e-01, -2.60553747e-01,  1.26254976e+00,\n",
              "         3.11521590e-01],\n",
              "       [-7.01056197e-02,  1.61927655e-01, -7.67396688e-01,\n",
              "         3.11521590e-01],\n",
              "       [-9.94878769e-01, -1.52799797e+00, -2.84076124e-01,\n",
              "        -1.41738534e-01],\n",
              "       [ 9.38737810e-01, -1.52799797e+00, -9.07478854e-02,\n",
              "        -1.41738534e-01],\n",
              "       [-1.33115995e+00, -1.10551655e+00, -3.80740225e-01,\n",
              "         5.38151681e-01],\n",
              "       [-9.10808504e-01,  1.61927655e-01,  8.75893295e-01,\n",
              "        -1.27488887e+00],\n",
              "       [-4.90457058e-01, -2.60553747e-01, -2.84076124e-01,\n",
              "         5.38151681e-01],\n",
              "       [-1.33115995e+00, -2.60553747e-01, -3.80740225e-01,\n",
              "         1.89793205e+00],\n",
              "       [-1.33115995e+00,  3.54177880e+00, -2.06744820e-01,\n",
              "         8.48915279e-02],\n",
              "       [-7.01056197e-02, -1.52799797e+00,  1.45587790e+00,\n",
              "        -2.18140912e+00],\n",
              "       [-1.58337080e+00, -1.95047927e+00, -9.07478854e-02,\n",
              "        -1.41738534e-01],\n",
              "       [ 9.38737810e-01, -1.10551655e+00, -3.80740225e-01,\n",
              "         7.64781713e-01],\n",
              "       [ 7.70597219e-01, -1.10551655e+00, -1.87411994e-01,\n",
              "         1.21804190e+00],\n",
              "       [ 3.50245804e-01, -1.10551655e+00,  4.21571940e-01,\n",
              "        -3.68368596e-01],\n",
              "       [-1.66744101e+00,  1.61927655e-01, -5.74068487e-01,\n",
              "         7.64781713e-01],\n",
              "       [-2.38246188e-01, -2.60553747e-01, -4.77404356e-01,\n",
              "         5.38151681e-01],\n",
              "       [ 2.03165150e+00, -2.60553747e-01, -3.80740225e-01,\n",
              "        -1.04825878e+00],\n",
              "       [ 3.50245804e-01,  1.00689042e+00, -9.07478854e-02,\n",
              "         8.48915279e-02],\n",
              "       [ 6.86526954e-01, -1.52799797e+00, -1.87411994e-01,\n",
              "        -5.94998658e-01],\n",
              "       [-7.01056197e-02, -1.52799797e+00, -6.70732558e-01,\n",
              "         5.38151681e-01],\n",
              "       [ 7.70597219e-01,  1.85185325e+00, -5.74068487e-01,\n",
              "         7.64781713e-01],\n",
              "       [-1.58337080e+00,  1.61927655e-01, -1.87411994e-01,\n",
              "         7.64781713e-01],\n",
              "       [ 1.19094872e+00, -7.06490641e-03, -7.67396688e-01,\n",
              "        -1.27488887e+00],\n",
              "       [-4.90457058e-01,  5.84409058e-01, -4.77404356e-01,\n",
              "         7.64781713e-01],\n",
              "       [ 7.70597219e-01,  1.61927655e-01,  2.95908570e-01,\n",
              "        -1.41738534e-01],\n",
              "       [ 5.18386364e-01,  1.00689042e+00, -2.06744820e-01,\n",
              "         8.48915279e-02],\n",
              "       [-7.01056197e-02, -1.10551655e+00,  1.06922150e+00,\n",
              "        -1.04825878e+00],\n",
              "       [ 1.52722979e+00,  1.00689042e+00,  3.92572701e-01,\n",
              "        -8.21628690e-01],\n",
              "       [-1.54175907e-01, -1.10551655e+00, -3.80740225e-01,\n",
              "         9.91411805e-01],\n",
              "       [-8.26738179e-01,  1.00689042e+00, -6.70732558e-01,\n",
              "         7.64781713e-01],\n",
              "       [-4.90457058e-01, -2.60553747e-01, -2.84076124e-01,\n",
              "         8.48915279e-02],\n",
              "       [ 3.50245804e-01,  1.85185325e+00, -5.74068487e-01,\n",
              "         7.64781713e-01],\n",
              "       [-1.41523015e+00,  1.61927655e-01, -6.70732558e-01,\n",
              "         5.38151681e-01],\n",
              "       [-3.22316468e-01, -1.10551655e+00, -2.84076124e-01,\n",
              "         1.67130196e+00],\n",
              "       [ 7.70597219e-01,  5.84409058e-01, -5.74068487e-01,\n",
              "        -1.41738534e-01],\n",
              "       [-7.01056197e-02,  5.84409058e-01, -3.80740225e-01,\n",
              "        -8.21628690e-01],\n",
              "       [-1.58337080e+00,  1.85185325e+00, -2.06744820e-01,\n",
              "         8.48915279e-02],\n",
              "       [-7.01056197e-02, -1.10551655e+00,  2.95908570e-01,\n",
              "        -3.68368596e-01],\n",
              "       [-2.38246188e-01, -7.06490641e-03, -6.70732558e-01,\n",
              "         1.21804190e+00],\n",
              "       [-2.38246188e-01,  1.85185325e+00, -3.80740225e-01,\n",
              "         9.91411805e-01],\n",
              "       [ 1.82105243e-01, -1.10551655e+00, -9.07478854e-02,\n",
              "        -5.94998658e-01],\n",
              "       [ 7.70597219e-01,  1.85185325e+00, -2.84076124e-01,\n",
              "        -1.41738534e-01],\n",
              "       [-7.01056197e-02, -1.10551655e+00, -1.87411994e-01,\n",
              "         8.48915279e-02],\n",
              "       [ 1.82105243e-01,  1.61927655e-01, -2.84076124e-01,\n",
              "         7.64781713e-01],\n",
              "       [ 3.50245804e-01, -1.10551655e+00, -2.84076124e-01,\n",
              "         9.91411805e-01],\n",
              "       [ 1.19094872e+00,  5.84409058e-01, -2.06744820e-01,\n",
              "         8.48915279e-02],\n",
              "       [ 1.61130011e+00, -1.10551655e+00, -2.84076124e-01,\n",
              "         1.67130196e+00],\n",
              "       [-1.58337080e+00, -6.83035135e-01, -3.80740225e-01,\n",
              "         7.64781713e-01],\n",
              "       [-7.01056197e-02,  1.00689042e+00,  8.75893295e-01,\n",
              "         1.44467187e+00],\n",
              "       [ 9.38737810e-01, -6.83035135e-01,  2.95908570e-01,\n",
              "         3.11521590e-01],\n",
              "       [-4.90457058e-01,  5.84409058e-01, -9.07478854e-02,\n",
              "         8.48915279e-02],\n",
              "       [-1.33115995e+00, -2.60553747e-01, -4.77404356e-01,\n",
              "         3.11521590e-01],\n",
              "       [ 1.82105243e-01, -7.06490641e-03, -2.84076124e-01,\n",
              "        -8.21628690e-01],\n",
              "       [-1.33115995e+00, -2.60553747e-01, -9.07478854e-02,\n",
              "         1.21804190e+00],\n",
              "       [ 2.03165150e+00,  1.85185325e+00, -1.87411994e-01,\n",
              "        -1.04825878e+00],\n",
              "       [-4.90457058e-01, -2.60553747e-01, -1.87411994e-01,\n",
              "        -3.68368596e-01],\n",
              "       [-9.10808504e-01, -1.10551655e+00,  1.99244469e-01,\n",
              "        -1.41738534e-01],\n",
              "       [ 7.70597219e-01,  1.85185325e+00, -9.07478854e-02,\n",
              "         8.48915279e-02],\n",
              "       [-7.01056197e-02,  1.61927655e-01, -1.87411994e-01,\n",
              "        -2.40803909e+00],\n",
              "       [-2.38246188e-01,  1.61927655e-01, -3.80740225e-01,\n",
              "         5.38151681e-01],\n",
              "       [-7.01056197e-02,  1.85185325e+00, -6.70732558e-01,\n",
              "        -1.41738534e-01],\n",
              "       [ 2.03165150e+00,  1.85185325e+00,  1.74587035e+00,\n",
              "         3.11521590e-01],\n",
              "       [ 3.50245804e-01,  1.85185325e+00, -4.77404356e-01,\n",
              "         7.64781713e-01],\n",
              "       [ 2.11572170e+00, -7.06490641e-03,  4.21571940e-01,\n",
              "        -5.94998658e-01],\n",
              "       [-7.01056197e-02,  1.85185325e+00,  1.02580346e-01,\n",
              "        -3.68368596e-01],\n",
              "       [ 4.34316099e-01, -7.06490641e-03, -3.80740225e-01,\n",
              "        -1.41738534e-01],\n",
              "       [-7.01056197e-02, -7.06490641e-03, -6.22400522e-01,\n",
              "         7.64781713e-01],\n",
              "       [-7.01056197e-02, -6.83035135e-01, -4.77404356e-01,\n",
              "         1.89793205e+00],\n",
              "       [-7.01056197e-02,  1.61927655e-01,  2.22919083e+00,\n",
              "        -5.94998658e-01],\n",
              "       [-1.49930048e+00,  1.00689042e+00, -9.07478854e-02,\n",
              "        -3.68368596e-01],\n",
              "       [-1.24708962e+00, -1.78148675e+00,  6.82565033e-01,\n",
              "        -2.86129928e+00],\n",
              "       [-2.38246188e-01,  1.85185325e+00, -5.74068487e-01,\n",
              "         8.48915279e-02],\n",
              "       [ 1.39646651e-02, -6.83035135e-01, -6.70732558e-01,\n",
              "        -1.41738534e-01],\n",
              "       [-6.58597648e-01, -2.60553747e-01,  1.93919849e+00,\n",
              "         1.89793205e+00],\n",
              "       [-6.58597648e-01,  1.85185325e+00, -6.70732558e-01,\n",
              "         3.11521590e-01],\n",
              "       [-7.01056197e-02,  5.84409058e-01,  4.54912949e+00,\n",
              "        -1.27488887e+00],\n",
              "       [-1.24708962e+00,  1.61927655e-01, -2.06744820e-01,\n",
              "         8.48915279e-02],\n",
              "       [ 1.82105243e-01,  1.85185325e+00, -9.07478854e-02,\n",
              "         1.89793205e+00],\n",
              "       [ 1.69537044e+00, -2.60553747e-01, -2.06744820e-01,\n",
              "         8.48915279e-02],\n",
              "       [ 1.19094872e+00,  1.61927655e-01, -2.06744820e-01,\n",
              "         8.48915279e-02],\n",
              "       [ 3.50245804e-01,  1.85185325e+00, -4.77404356e-01,\n",
              "         8.48915279e-02],\n",
              "       [ 6.02456689e-01, -1.10551655e+00,  6.82565033e-01,\n",
              "        -1.50151885e+00],\n",
              "       [ 9.80349481e-02, -2.60553747e-01, -3.80740225e-01,\n",
              "        -1.41738534e-01],\n",
              "       [-9.10808504e-01, -6.83035135e-01, -5.74068487e-01,\n",
              "         3.11521590e-01],\n",
              "       [ 1.61130011e+00, -7.06490641e-03, -2.84076124e-01,\n",
              "        -5.94998658e-01],\n",
              "       [-1.24708962e+00, -2.60553747e-01, -4.77404356e-01,\n",
              "         7.64781713e-01],\n",
              "       [-9.10808504e-01, -6.83035135e-01, -4.77404356e-01,\n",
              "        -1.04825878e+00],\n",
              "       [ 1.39646651e-02,  1.61927655e-01, -4.77404356e-01,\n",
              "         9.91411805e-01],\n",
              "       [ 9.38737810e-01, -1.10551655e+00,  2.95908570e-01,\n",
              "         5.38151681e-01],\n",
              "       [-9.10808504e-01, -6.83035135e-01, -6.70732558e-01,\n",
              "         9.91411805e-01],\n",
              "       [-7.42667913e-01, -6.83035135e-01, -6.70732558e-01,\n",
              "        -1.41738534e-01],\n",
              "       [ 2.66175508e-01,  1.85185325e+00, -3.80740225e-01,\n",
              "         8.48915279e-02],\n",
              "       [ 1.19094872e+00, -6.83035135e-01,  4.21571940e-01,\n",
              "        -5.94998658e-01],\n",
              "       [-7.01056197e-02, -2.60553747e-01, -4.77404356e-01,\n",
              "        -1.41738534e-01],\n",
              "       [ 9.38737810e-01,  5.84409058e-01,  1.06922150e+00,\n",
              "        -3.68368596e-01],\n",
              "       [ 9.80349481e-02,  1.85185325e+00, -4.77404356e-01,\n",
              "         5.38151681e-01],\n",
              "       [-9.10808504e-01,  5.84409058e-01, -4.77404356e-01,\n",
              "        -5.94998658e-01],\n",
              "       [-9.10808504e-01, -2.60553747e-01, -2.06744820e-01,\n",
              "         8.48915279e-02],\n",
              "       [ 3.50245804e-01, -2.60553747e-01, -5.74068487e-01,\n",
              "        -1.41738534e-01],\n",
              "       [-7.01056197e-02, -1.10551655e+00,  2.95908570e-01,\n",
              "         7.64781713e-01],\n",
              "       [-7.42667913e-01, -2.60553747e-01,  5.91623178e-03,\n",
              "        -1.41738534e-01],\n",
              "       [-9.10808504e-01, -1.10551655e+00, -3.80740225e-01,\n",
              "        -1.41738534e-01],\n",
              "       [ 2.03165150e+00,  1.00689042e+00, -9.07478854e-02,\n",
              "        -5.94998658e-01],\n",
              "       [-1.54175907e-01,  5.84409058e-01, -2.84076124e-01,\n",
              "         5.38151681e-01],\n",
              "       [ 4.34316099e-01,  1.61927655e-01, -1.87411994e-01,\n",
              "        -5.94998658e-01],\n",
              "       [-1.33115995e+00, -2.60553747e-01, -5.74068487e-01,\n",
              "         5.38151681e-01],\n",
              "       [ 1.82105243e-01,  1.61927655e-01, -4.77404356e-01,\n",
              "         8.48915279e-02],\n",
              "       [-9.10808504e-01, -2.60553747e-01, -4.77404356e-01,\n",
              "         1.21804190e+00],\n",
              "       [-1.33115995e+00, -6.83035135e-01, -2.84076124e-01,\n",
              "         5.38151681e-01],\n",
              "       [ 1.61130011e+00, -7.06490641e-03, -9.07478854e-02,\n",
              "        -3.68368596e-01],\n",
              "       [-6.58597648e-01,  1.85185325e+00, -6.70732558e-01,\n",
              "        -8.21628690e-01],\n",
              "       [-1.54175907e-01, -1.52799797e+00,  9.72557366e-01,\n",
              "        -5.94998658e-01],\n",
              "       [ 3.50245804e-01,  1.61927655e-01, -3.80740225e-01,\n",
              "         3.11521590e-01],\n",
              "       [ 7.70597219e-01, -2.60553747e-01, -5.74068487e-01,\n",
              "        -8.21628690e-01],\n",
              "       [-8.26738179e-01, -2.60553747e-01,  1.02580346e-01,\n",
              "        -1.41738534e-01],\n",
              "       [-7.42667913e-01,  1.61927655e-01, -4.77404356e-01,\n",
              "         7.64781713e-01],\n",
              "       [ 7.70597219e-01,  1.85185325e+00, -2.84076124e-01,\n",
              "         1.89793205e+00],\n",
              "       [-9.10808504e-01, -1.52799797e+00, -5.74068487e-01,\n",
              "         5.38151681e-01],\n",
              "       [ 3.50245804e-01, -2.60553747e-01, -4.77404356e-01,\n",
              "         8.48915279e-02],\n",
              "       [-7.01056197e-02,  1.85185325e+00, -3.80740225e-01,\n",
              "         3.11521590e-01],\n",
              "       [ 6.86526954e-01,  1.61927655e-01, -3.80740225e-01,\n",
              "        -3.68368596e-01],\n",
              "       [-9.94878769e-01,  1.00689042e+00, -3.80740225e-01,\n",
              "         7.64781713e-01],\n",
              "       [ 1.82105243e-01,  1.85185325e+00, -1.87411994e-01,\n",
              "         1.89793205e+00],\n",
              "       [-4.90457058e-01,  1.61927655e-01, -6.70732558e-01,\n",
              "         7.64781713e-01],\n",
              "       [-1.75151134e+00, -6.83035135e-01, -4.77404356e-01,\n",
              "        -1.41738534e-01],\n",
              "       [-1.54175907e-01, -1.10551655e+00, -3.80740225e-01,\n",
              "        -1.41738534e-01],\n",
              "       [ 3.50245804e-01, -1.10551655e+00, -1.87411994e-01,\n",
              "        -1.41738534e-01],\n",
              "       [ 1.19094872e+00, -7.06490641e-03,  1.06922150e+00,\n",
              "        -5.94998658e-01],\n",
              "       [-2.38246188e-01, -1.10551655e+00, -1.87411994e-01,\n",
              "         8.48915279e-02],\n",
              "       [-1.40307406e-02, -6.83035135e-01,  1.02580346e-01,\n",
              "        -1.41738534e-01],\n",
              "       [-9.10808504e-01,  1.00689042e+00, -7.67396688e-01,\n",
              "        -5.94998658e-01],\n",
              "       [-7.01056197e-02, -1.10551655e+00,  6.82565033e-01,\n",
              "         1.67130196e+00],\n",
              "       [-1.40307406e-02,  1.61927655e-01, -3.80740225e-01,\n",
              "        -1.41738534e-01],\n",
              "       [-1.75151134e+00,  5.84409058e-01, -4.77404356e-01,\n",
              "         7.64781713e-01],\n",
              "       [ 1.61130011e+00, -2.60553747e-01,  6.82565033e-01,\n",
              "        -5.94998658e-01],\n",
              "       [ 2.66175508e-01,  1.85185325e+00,  1.02580346e-01,\n",
              "        -3.68368596e-01],\n",
              "       [-9.10808504e-01,  1.61927655e-01, -6.70732558e-01,\n",
              "        -1.50151885e+00],\n",
              "       [ 1.02280807e+00, -6.83035135e-01, -2.06744820e-01,\n",
              "         1.21804190e+00],\n",
              "       [-1.33115995e+00, -1.52799797e+00,  1.99244469e-01,\n",
              "        -3.68368596e-01],\n",
              "       [ 1.35908926e+00,  5.84409058e-01,  3.92572701e-01,\n",
              "         1.89793205e+00],\n",
              "       [-1.33115995e+00, -7.06490641e-03, -2.06744820e-01,\n",
              "         8.48915279e-02],\n",
              "       [ 3.50245804e-01, -6.83035135e-01, -5.74068487e-01,\n",
              "         3.11521590e-01],\n",
              "       [-9.10808504e-01, -1.52799797e+00, -3.80740225e-01,\n",
              "        -5.94998658e-01],\n",
              "       [-7.01056197e-02, -2.60553747e-01,  3.92572701e-01,\n",
              "        -5.35422993e+00],\n",
              "       [ 1.82105243e-01,  5.84409058e-01, -6.70732558e-01,\n",
              "         8.48915279e-02],\n",
              "       [-1.33115995e+00,  1.85185325e+00, -3.80740225e-01,\n",
              "        -1.41738534e-01],\n",
              "       [ 7.70597219e-01,  1.85185325e+00, -4.77404356e-01,\n",
              "         3.11521590e-01],\n",
              "       [-7.01056197e-02, -1.10551655e+00,  2.03586268e+00,\n",
              "        -1.41738534e-01],\n",
              "       [ 1.44315958e+00,  1.61927655e-01, -6.70732558e-01,\n",
              "         8.48915279e-02],\n",
              "       [-9.10808504e-01,  5.84409058e-01, -3.80740225e-01,\n",
              "        -1.41738534e-01],\n",
              "       [-1.75151134e+00,  1.61927655e-01, -5.74068487e-01,\n",
              "         9.91411805e-01],\n",
              "       [ 2.03165150e+00, -7.06490641e-03, -4.77404356e-01,\n",
              "        -1.41738534e-01],\n",
              "       [-7.01056197e-02,  1.61927655e-01, -3.80740225e-01,\n",
              "         9.91411805e-01],\n",
              "       [-9.94878769e-01, -2.60553747e-01, -5.74068487e-01,\n",
              "        -1.50151885e+00],\n",
              "       [ 7.70597219e-01, -1.78148675e+00, -3.80740225e-01,\n",
              "        -1.41738534e-01],\n",
              "       [-9.10808504e-01,  2.02084589e+00, -5.74068487e-01,\n",
              "         7.64781713e-01],\n",
              "       [ 1.44315958e+00,  1.00689042e+00,  5.91623178e-03,\n",
              "         3.11521590e-01],\n",
              "       [-1.07894909e+00, -6.83035135e-01,  1.99244469e-01,\n",
              "        -1.50151885e+00],\n",
              "       [ 3.50245804e-01, -2.60553747e-01, -5.74068487e-01,\n",
              "        -5.94998658e-01],\n",
              "       [ 1.02280807e+00, -2.60553747e-01, -9.07478854e-02,\n",
              "        -5.94998658e-01],\n",
              "       [ 7.70597219e-01,  1.00689042e+00, -4.77404356e-01,\n",
              "         9.91411805e-01],\n",
              "       [-5.74527323e-01,  2.69681597e+00,  7.35238886e+00,\n",
              "         8.48915279e-02],\n",
              "       [ 6.02456689e-01, -2.60553747e-01, -2.84076124e-01,\n",
              "        -5.94998658e-01],\n",
              "       [-4.90457058e-01, -2.60553747e-01, -6.70732558e-01,\n",
              "         7.64781713e-01],\n",
              "       [ 1.02280807e+00, -1.52799797e+00,  4.21571940e-01,\n",
              "        -5.94998658e-01],\n",
              "       [ 3.50245804e-01,  1.00689042e+00, -2.84076124e-01,\n",
              "         1.89793205e+00],\n",
              "       [-1.58337080e+00, -2.60553747e-01, -2.84076124e-01,\n",
              "         5.38151681e-01],\n",
              "       [-1.16301930e+00, -1.10551655e+00, -5.74068487e-01,\n",
              "        -5.94998658e-01],\n",
              "       [-2.38246188e-01, -1.10551655e+00, -3.80740225e-01,\n",
              "         3.11521590e-01],\n",
              "       [ 1.19094872e+00,  1.85185325e+00,  5.91623178e-03,\n",
              "        -2.63466930e+00],\n",
              "       [-2.38246188e-01, -1.10551655e+00, -9.07478854e-02,\n",
              "        -1.04825878e+00],\n",
              "       [-4.90457058e-01, -2.60553747e-01, -3.80740225e-01,\n",
              "         7.64781713e-01],\n",
              "       [ 3.50245804e-01, -1.10551655e+00,  3.48582435e+00,\n",
              "        -1.50151885e+00],\n",
              "       [ 9.38737810e-01, -1.10551655e+00, -1.87411994e-01,\n",
              "        -5.94998658e-01],\n",
              "       [-7.01056197e-02, -6.83035135e-01,  2.95908570e-01,\n",
              "        -2.18140912e+00],\n",
              "       [ 7.70597219e-01, -2.60553747e-01, -2.84076124e-01,\n",
              "        -5.94998658e-01],\n",
              "       [-1.75151134e+00, -2.60553747e-01, -4.77404356e-01,\n",
              "         8.48915279e-02],\n",
              "       [-6.58597648e-01, -7.06490641e-03,  5.91623178e-03,\n",
              "         8.48915279e-02],\n",
              "       [-6.58597648e-01,  5.84409058e-01, -2.84076124e-01,\n",
              "         8.48915279e-02],\n",
              "       [ 1.35908926e+00,  1.00689042e+00, -2.84076124e-01,\n",
              "         8.48915279e-02],\n",
              "       [ 1.19094872e+00,  1.00689042e+00, -2.84076124e-01,\n",
              "         2.57782221e+00],\n",
              "       [ 7.70597219e-01, -6.83035135e-01, -1.87411994e-01,\n",
              "        -1.04825878e+00],\n",
              "       [ 3.50245804e-01,  1.61927655e-01, -3.80740225e-01,\n",
              "        -1.41738534e-01],\n",
              "       [-4.90457058e-01,  5.84409058e-01, -2.06744820e-01,\n",
              "         8.48915279e-02],\n",
              "       [ 7.70597219e-01, -2.60553747e-01, -9.07478854e-02,\n",
              "         5.38151681e-01],\n",
              "       [ 3.50245804e-01, -6.83035135e-01, -9.07478854e-02,\n",
              "        -1.41738534e-01],\n",
              "       [-1.75151134e+00, -2.60553747e-01, -2.84076124e-01,\n",
              "        -1.41738534e-01],\n",
              "       [ 1.02280807e+00,  1.61927655e-01, -4.77404356e-01,\n",
              "         9.91411805e-01],\n",
              "       [-5.74527323e-01, -7.06490641e-03,  3.92572701e-01,\n",
              "        -5.94998658e-01],\n",
              "       [ 1.39646651e-02, -7.06490641e-03,  5.91623178e-03,\n",
              "         8.48915279e-02],\n",
              "       [-4.90457058e-01, -1.10551655e+00, -2.84076124e-01,\n",
              "         3.11521590e-01],\n",
              "       [ 2.66175508e-01, -1.10551655e+00,  9.72557366e-01,\n",
              "        -3.68368596e-01],\n",
              "       [-1.75151134e+00, -2.60553747e-01, -3.80740225e-01,\n",
              "         1.21804190e+00],\n",
              "       [-6.58597648e-01,  1.61927655e-01, -1.87411994e-01,\n",
              "        -1.50151885e+00]], dtype=float32)>"
            ]
          },
          "metadata": {
            "tags": []
          },
          "execution_count": 31
        }
      ]
    },
    {
      "cell_type": "code",
      "metadata": {
        "colab": {
          "base_uri": "https://localhost:8080/"
        },
        "id": "PYRDhDPCR_rH",
        "outputId": "df911053-9cf5-4381-8553-9479875336ee"
      },
      "source": [
        "# define a function to create the logistic regression classification model\n",
        "\n",
        "def create_model(learning_rate, feature_layer, metrics):\n",
        "\n",
        "  # model with sequential layers\n",
        "  model = tf.keras.models.Sequential()\n",
        "\n",
        "  # add the feature input layer\n",
        "  model.add(feature_layer)\n",
        "\n",
        "  # add the output layer with sigmoid activation\n",
        "  model.add(tf.keras.layers.Dense(units=1, input_shape=(1,), activation=tf.sigmoid))\n",
        "\n",
        "  # compile the model + layers into an exxecutable TensorFlow model\n",
        "  model.compile(optimizer=tf.keras.optimizers.RMSprop(learning_rate=learning_rate), \n",
        "                loss=tf.keras.losses.BinaryCrossentropy(), metrics=metrics)\n",
        "\n",
        "  return model\n",
        "\n",
        "print(\"Defined create_model\")"
      ],
      "execution_count": null,
      "outputs": [
        {
          "output_type": "stream",
          "text": [
            "Defined create_model\n"
          ],
          "name": "stdout"
        }
      ]
    },
    {
      "cell_type": "code",
      "metadata": {
        "colab": {
          "base_uri": "https://localhost:8080/"
        },
        "id": "NQ0nFHmSU9_3",
        "outputId": "e5dc4076-d890-4275-d5ae-5df2f06e8ee3"
      },
      "source": [
        "# define a function to train the logistic regression classification model\n",
        "\n",
        "def train_model(model, dataset, num_epochs, label, batch_size):\n",
        "\n",
        "  # convert feature data to name-values pairs\n",
        "  features = {name: np.array(values) for name, values in dataset.items()}\n",
        "\n",
        "  # get label data alone\n",
        "  labels = np.array(features.pop(label))\n",
        "\n",
        "  # fit the model and get results\n",
        "  history = model.fit(x=features, y=labels, batch_size=batch_size, epochs=num_epochs, validation_split=0.2)\n",
        "\n",
        "  # get the list of epochs and metric data\n",
        "  epochs = history.epoch\n",
        "  hist = pd.DataFrame(history.history)\n",
        "\n",
        "  return epochs, hist\n",
        "\n",
        "print(\"Defined train_model\")"
      ],
      "execution_count": null,
      "outputs": [
        {
          "output_type": "stream",
          "text": [
            "Defined train_model\n"
          ],
          "name": "stdout"
        }
      ]
    },
    {
      "cell_type": "code",
      "metadata": {
        "colab": {
          "base_uri": "https://localhost:8080/"
        },
        "id": "1BFeHtRvhLgA",
        "outputId": "ef7bf174-5f14-4c67-d1ee-2cc7b9c830a3"
      },
      "source": [
        "# define a function to visualize training results\n",
        "\n",
        "def plot_results(epochs, history, metrics):\n",
        "\n",
        "  # plot the curves of the calssification metrics\n",
        "  plt.figure(figsize=(15, 5))\n",
        "  plt.xlabel(\"Epoch\")\n",
        "  plt.ylabel(\"Value\")\n",
        "\n",
        "  for metric in metrics:\n",
        "    x = history[metric]\n",
        "    plt.plot(epochs[1:], x[1:], label=metric)\n",
        "\n",
        "  plt.legend()\n",
        "\n",
        "print(\"Defined plot_results\")"
      ],
      "execution_count": null,
      "outputs": [
        {
          "output_type": "stream",
          "text": [
            "Defined plot_results\n"
          ],
          "name": "stdout"
        }
      ]
    },
    {
      "cell_type": "code",
      "metadata": {
        "colab": {
          "base_uri": "https://localhost:8080/",
          "height": 1000
        },
        "id": "nnNvv-gDiEc5",
        "outputId": "54f7c05a-db4b-42b9-9380-b993b44f8e17"
      },
      "source": [
        "# run the logistic regression binary classification process\n",
        "\n",
        "# parameters\n",
        "learning_rate = 0.002\n",
        "epochs = 20\n",
        "batch_size = 4\n",
        "label_name = \"death_event\"\n",
        "classification_threshold = 0.55\n",
        "\n",
        "# provide the metrics to be used\n",
        "metrics = [\n",
        "  tf.keras.metrics.BinaryAccuracy(threshold=classification_threshold, name='accuracy'),\n",
        "  tf.keras.metrics.Precision(thresholds=classification_threshold, name='precision'),\n",
        "  tf.keras.metrics.Recall(thresholds=classification_threshold, name=\"recall\"),\n",
        "]\n",
        "\n",
        "# create model\n",
        "model = create_model(learning_rate, feature_layer, metrics)\n",
        "\n",
        "# train model\n",
        "epochs, history = train_model(model, training_data, epochs, label_name, batch_size)\n",
        "\n",
        "# plot results\n",
        "list_of_metrics_to_plot = ['accuracy', 'precision', 'recall'] \n",
        "plot_results(epochs, history, list_of_metrics_to_plot)"
      ],
      "execution_count": null,
      "outputs": [
        {
          "output_type": "stream",
          "text": [
            "Epoch 1/20\n",
            "WARNING:tensorflow:Layers in a Sequential model should only have a single input tensor, but we receive a <class 'dict'> input: {'serum_creatinine': <tf.Tensor 'ExpandDims_2:0' shape=(4, 1) dtype=float32>, 'ejection_fraction': <tf.Tensor 'ExpandDims_1:0' shape=(4, 1) dtype=float32>, 'age': <tf.Tensor 'ExpandDims:0' shape=(4, 1) dtype=float32>, 'serum_sodium': <tf.Tensor 'ExpandDims_3:0' shape=(4, 1) dtype=float32>}\n",
            "Consider rewriting this model with the Functional API.\n"
          ],
          "name": "stdout"
        },
        {
          "output_type": "stream",
          "text": [
            "WARNING:tensorflow:Layers in a Sequential model should only have a single input tensor, but we receive a <class 'dict'> input: {'serum_creatinine': <tf.Tensor 'ExpandDims_2:0' shape=(4, 1) dtype=float32>, 'ejection_fraction': <tf.Tensor 'ExpandDims_1:0' shape=(4, 1) dtype=float32>, 'age': <tf.Tensor 'ExpandDims:0' shape=(4, 1) dtype=float32>, 'serum_sodium': <tf.Tensor 'ExpandDims_3:0' shape=(4, 1) dtype=float32>}\n",
            "Consider rewriting this model with the Functional API.\n"
          ],
          "name": "stderr"
        },
        {
          "output_type": "stream",
          "text": [
            "WARNING:tensorflow:Layers in a Sequential model should only have a single input tensor, but we receive a <class 'dict'> input: {'serum_creatinine': <tf.Tensor 'ExpandDims_2:0' shape=(4, 1) dtype=float32>, 'ejection_fraction': <tf.Tensor 'ExpandDims_1:0' shape=(4, 1) dtype=float32>, 'age': <tf.Tensor 'ExpandDims:0' shape=(4, 1) dtype=float32>, 'serum_sodium': <tf.Tensor 'ExpandDims_3:0' shape=(4, 1) dtype=float32>}\n",
            "Consider rewriting this model with the Functional API.\n"
          ],
          "name": "stdout"
        },
        {
          "output_type": "stream",
          "text": [
            "WARNING:tensorflow:Layers in a Sequential model should only have a single input tensor, but we receive a <class 'dict'> input: {'serum_creatinine': <tf.Tensor 'ExpandDims_2:0' shape=(4, 1) dtype=float32>, 'ejection_fraction': <tf.Tensor 'ExpandDims_1:0' shape=(4, 1) dtype=float32>, 'age': <tf.Tensor 'ExpandDims:0' shape=(4, 1) dtype=float32>, 'serum_sodium': <tf.Tensor 'ExpandDims_3:0' shape=(4, 1) dtype=float32>}\n",
            "Consider rewriting this model with the Functional API.\n"
          ],
          "name": "stderr"
        },
        {
          "output_type": "stream",
          "text": [
            "44/50 [=========================>....] - ETA: 0s - loss: 1.2457 - accuracy: 0.3295 - precision: 0.2278 - recall: 0.2400        WARNING:tensorflow:Layers in a Sequential model should only have a single input tensor, but we receive a <class 'dict'> input: {'serum_creatinine': <tf.Tensor 'ExpandDims_2:0' shape=(None, 1) dtype=float32>, 'ejection_fraction': <tf.Tensor 'ExpandDims_1:0' shape=(None, 1) dtype=float32>, 'age': <tf.Tensor 'ExpandDims:0' shape=(None, 1) dtype=float32>, 'serum_sodium': <tf.Tensor 'ExpandDims_3:0' shape=(None, 1) dtype=float32>}\n",
            "Consider rewriting this model with the Functional API.\n"
          ],
          "name": "stdout"
        },
        {
          "output_type": "stream",
          "text": [
            "WARNING:tensorflow:Layers in a Sequential model should only have a single input tensor, but we receive a <class 'dict'> input: {'serum_creatinine': <tf.Tensor 'ExpandDims_2:0' shape=(None, 1) dtype=float32>, 'ejection_fraction': <tf.Tensor 'ExpandDims_1:0' shape=(None, 1) dtype=float32>, 'age': <tf.Tensor 'ExpandDims:0' shape=(None, 1) dtype=float32>, 'serum_sodium': <tf.Tensor 'ExpandDims_3:0' shape=(None, 1) dtype=float32>}\n",
            "Consider rewriting this model with the Functional API.\n"
          ],
          "name": "stderr"
        },
        {
          "output_type": "stream",
          "text": [
            "50/50 [==============================] - 0s 8ms/step - loss: 1.2299 - accuracy: 0.3350 - precision: 0.2500 - recall: 0.2472 - val_loss: 1.0736 - val_accuracy: 0.4600 - val_precision: 0.0000e+00 - val_recall: 0.0000e+00\n",
            "Epoch 2/20\n",
            "50/50 [==============================] - 0s 2ms/step - loss: 1.1629 - accuracy: 0.3550 - precision: 0.2674 - recall: 0.2584 - val_loss: 1.0240 - val_accuracy: 0.4600 - val_precision: 0.0000e+00 - val_recall: 0.0000e+00\n",
            "Epoch 3/20\n",
            "50/50 [==============================] - 0s 2ms/step - loss: 1.1061 - accuracy: 0.3800 - precision: 0.2892 - recall: 0.2697 - val_loss: 0.9811 - val_accuracy: 0.5000 - val_precision: 0.0000e+00 - val_recall: 0.0000e+00\n",
            "Epoch 4/20\n",
            "50/50 [==============================] - 0s 2ms/step - loss: 1.0504 - accuracy: 0.4050 - precision: 0.3125 - recall: 0.2809 - val_loss: 0.9374 - val_accuracy: 0.5000 - val_precision: 0.0000e+00 - val_recall: 0.0000e+00\n",
            "Epoch 5/20\n",
            "50/50 [==============================] - 0s 2ms/step - loss: 0.9974 - accuracy: 0.4150 - precision: 0.3250 - recall: 0.2921 - val_loss: 0.8980 - val_accuracy: 0.5800 - val_precision: 0.0000e+00 - val_recall: 0.0000e+00\n",
            "Epoch 6/20\n",
            "50/50 [==============================] - 0s 2ms/step - loss: 0.9472 - accuracy: 0.4400 - precision: 0.3506 - recall: 0.3034 - val_loss: 0.8606 - val_accuracy: 0.6200 - val_precision: 0.0000e+00 - val_recall: 0.0000e+00\n",
            "Epoch 7/20\n",
            "50/50 [==============================] - 0s 2ms/step - loss: 0.9025 - accuracy: 0.4450 - precision: 0.3553 - recall: 0.3034 - val_loss: 0.8267 - val_accuracy: 0.6400 - val_precision: 0.0000e+00 - val_recall: 0.0000e+00\n",
            "Epoch 8/20\n",
            "50/50 [==============================] - 0s 2ms/step - loss: 0.8610 - accuracy: 0.4550 - precision: 0.3611 - recall: 0.2921 - val_loss: 0.7984 - val_accuracy: 0.6400 - val_precision: 0.0000e+00 - val_recall: 0.0000e+00\n",
            "Epoch 9/20\n",
            "50/50 [==============================] - 0s 2ms/step - loss: 0.8189 - accuracy: 0.4800 - precision: 0.3881 - recall: 0.2921 - val_loss: 0.7679 - val_accuracy: 0.6400 - val_precision: 0.0000e+00 - val_recall: 0.0000e+00\n",
            "Epoch 10/20\n",
            "50/50 [==============================] - 0s 2ms/step - loss: 0.7821 - accuracy: 0.5100 - precision: 0.4308 - recall: 0.3146 - val_loss: 0.7437 - val_accuracy: 0.6400 - val_precision: 0.0000e+00 - val_recall: 0.0000e+00\n",
            "Epoch 11/20\n",
            "50/50 [==============================] - 0s 2ms/step - loss: 0.7506 - accuracy: 0.5350 - precision: 0.4667 - recall: 0.3146 - val_loss: 0.7211 - val_accuracy: 0.7000 - val_precision: 0.0000e+00 - val_recall: 0.0000e+00\n",
            "Epoch 12/20\n",
            "50/50 [==============================] - 0s 2ms/step - loss: 0.7208 - accuracy: 0.5950 - precision: 0.5741 - recall: 0.3483 - val_loss: 0.7012 - val_accuracy: 0.6800 - val_precision: 0.0000e+00 - val_recall: 0.0000e+00\n",
            "Epoch 13/20\n",
            "50/50 [==============================] - 0s 2ms/step - loss: 0.6950 - accuracy: 0.6150 - precision: 0.6071 - recall: 0.3820 - val_loss: 0.6845 - val_accuracy: 0.6800 - val_precision: 0.0000e+00 - val_recall: 0.0000e+00\n",
            "Epoch 14/20\n",
            "50/50 [==============================] - 0s 2ms/step - loss: 0.6731 - accuracy: 0.6500 - precision: 0.6792 - recall: 0.4045 - val_loss: 0.6692 - val_accuracy: 0.6600 - val_precision: 0.0714 - val_recall: 0.2000\n",
            "Epoch 15/20\n",
            "50/50 [==============================] - 0s 2ms/step - loss: 0.6532 - accuracy: 0.6500 - precision: 0.7021 - recall: 0.3708 - val_loss: 0.6558 - val_accuracy: 0.7000 - val_precision: 0.0833 - val_recall: 0.2000\n",
            "Epoch 16/20\n",
            "50/50 [==============================] - 0s 2ms/step - loss: 0.6367 - accuracy: 0.6700 - precision: 0.7447 - recall: 0.3933 - val_loss: 0.6455 - val_accuracy: 0.6800 - val_precision: 0.0769 - val_recall: 0.2000\n",
            "Epoch 17/20\n",
            "50/50 [==============================] - 0s 2ms/step - loss: 0.6227 - accuracy: 0.6700 - precision: 0.7347 - recall: 0.4045 - val_loss: 0.6375 - val_accuracy: 0.6600 - val_precision: 0.0714 - val_recall: 0.2000\n",
            "Epoch 18/20\n",
            "50/50 [==============================] - 0s 2ms/step - loss: 0.6109 - accuracy: 0.6900 - precision: 0.7547 - recall: 0.4494 - val_loss: 0.6303 - val_accuracy: 0.6400 - val_precision: 0.0667 - val_recall: 0.2000\n",
            "Epoch 19/20\n",
            "50/50 [==============================] - 0s 2ms/step - loss: 0.6011 - accuracy: 0.6900 - precision: 0.7368 - recall: 0.4719 - val_loss: 0.6248 - val_accuracy: 0.6800 - val_precision: 0.1333 - val_recall: 0.4000\n",
            "Epoch 20/20\n",
            "50/50 [==============================] - 0s 2ms/step - loss: 0.5927 - accuracy: 0.7100 - precision: 0.7541 - recall: 0.5169 - val_loss: 0.6182 - val_accuracy: 0.7000 - val_precision: 0.1429 - val_recall: 0.4000\n"
          ],
          "name": "stdout"
        },
        {
          "output_type": "display_data",
          "data": {
            "image/png": "[encoded data removed]",
            "text/plain": [
              "<Figure size 1080x360 with 1 Axes>"
            ]
          },
          "metadata": {
            "tags": [],
            "needs_background": "light"
          }
        }
      ]
    },
    {
      "cell_type": "code",
      "metadata": {
        "colab": {
          "base_uri": "https://localhost:8080/"
        },
        "id": "ZJmQTAW7ma0B",
        "outputId": "3f031d9e-df98-4d73-ee47-85330838cb90"
      },
      "source": [
        "# determine accuracy on test set\n",
        "\n",
        "features = {name: np.array(values) for name, values in test_data.items()}\n",
        "labels = np.array(features.pop(label_name)).astype(np.float32)\n",
        "\n",
        "# accuracy metrics\n",
        "results = model.evaluate(x=features, y=labels)\n",
        "print('\\nAccuracy: {}'.format(results[1]*100))"
      ],
      "execution_count": null,
      "outputs": [
        {
          "output_type": "stream",
          "text": [
            "WARNING:tensorflow:Layers in a Sequential model should only have a single input tensor, but we receive a <class 'dict'> input: {'serum_creatinine': <tf.Tensor 'ExpandDims_2:0' shape=(None, 1) dtype=float32>, 'ejection_fraction': <tf.Tensor 'ExpandDims_1:0' shape=(None, 1) dtype=float32>, 'age': <tf.Tensor 'ExpandDims:0' shape=(None, 1) dtype=float32>, 'serum_sodium': <tf.Tensor 'ExpandDims_3:0' shape=(None, 1) dtype=float32>}\n",
            "Consider rewriting this model with the Functional API.\n"
          ],
          "name": "stdout"
        },
        {
          "output_type": "stream",
          "text": [
            "WARNING:tensorflow:Layers in a Sequential model should only have a single input tensor, but we receive a <class 'dict'> input: {'serum_creatinine': <tf.Tensor 'ExpandDims_2:0' shape=(None, 1) dtype=float32>, 'ejection_fraction': <tf.Tensor 'ExpandDims_1:0' shape=(None, 1) dtype=float32>, 'age': <tf.Tensor 'ExpandDims:0' shape=(None, 1) dtype=float32>, 'serum_sodium': <tf.Tensor 'ExpandDims_3:0' shape=(None, 1) dtype=float32>}\n",
            "Consider rewriting this model with the Functional API.\n"
          ],
          "name": "stderr"
        },
        {
          "output_type": "stream",
          "text": [
            "2/2 [==============================] - 0s 3ms/step - loss: 0.4933 - accuracy: 0.9184 - precision: 0.2500 - recall: 0.5000\n",
            "\n",
            "Accuracy: 91.8367326259613\n"
          ],
          "name": "stdout"
        }
      ]
    },
    {
      "cell_type": "code",
      "metadata": {
        "id": "xG-v2Ev0U6Bl",
        "colab": {
          "base_uri": "https://localhost:8080/",
          "height": 751
        },
        "outputId": "19eb4a9d-a1e3-4aed-9c44-0ebe6b5f3e78"
      },
      "source": [
        "# convert the model to TensorFlow Lite and get a .tflite file\n",
        "# we can host the file-based tflite model and use it in a mobile app with Firebase\n",
        " \n",
        "from google.colab import files\n",
        " \n",
        "# convert the model\n",
        "converter = tf.lite.TFLiteConverter.from_keras_model(model)\n",
        "tflite_model = converter.convert()\n",
        " \n",
        "# save the model\n",
        "open('model.tflite', 'wb').write(tflite_model)\n",
        "files.download('model.tflite')"
      ],
      "execution_count": null,
      "outputs": [
        {
          "output_type": "stream",
          "text": [
            "WARNING:tensorflow:Layers in a Sequential model should only have a single input tensor, but we receive a <class 'dict'> input: {'serum_creatinine': <tf.Tensor 'serum_creatinine:0' shape=(None, 1) dtype=float32>, 'ejection_fraction': <tf.Tensor 'ejection_fraction:0' shape=(None, 1) dtype=float32>, 'age': <tf.Tensor 'age:0' shape=(None, 1) dtype=float32>, 'serum_sodium': <tf.Tensor 'serum_sodium:0' shape=(None, 1) dtype=float32>}\n",
            "Consider rewriting this model with the Functional API.\n"
          ],
          "name": "stdout"
        },
        {
          "output_type": "stream",
          "text": [
            "WARNING:tensorflow:Layers in a Sequential model should only have a single input tensor, but we receive a <class 'dict'> input: {'serum_creatinine': <tf.Tensor 'serum_creatinine:0' shape=(None, 1) dtype=float32>, 'ejection_fraction': <tf.Tensor 'ejection_fraction:0' shape=(None, 1) dtype=float32>, 'age': <tf.Tensor 'age:0' shape=(None, 1) dtype=float32>, 'serum_sodium': <tf.Tensor 'serum_sodium:0' shape=(None, 1) dtype=float32>}\n",
            "Consider rewriting this model with the Functional API.\n"
          ],
          "name": "stderr"
        },
        {
          "output_type": "stream",
          "text": [
            "WARNING:tensorflow:Layers in a Sequential model should only have a single input tensor, but we receive a <class 'dict'> input: {'serum_creatinine': <tf.Tensor 'serum_creatinine:0' shape=(None, 1) dtype=float32>, 'ejection_fraction': <tf.Tensor 'ejection_fraction:0' shape=(None, 1) dtype=float32>, 'age': <tf.Tensor 'age:0' shape=(None, 1) dtype=float32>, 'serum_sodium': <tf.Tensor 'serum_sodium:0' shape=(None, 1) dtype=float32>}\n",
            "Consider rewriting this model with the Functional API.\n"
          ],
          "name": "stdout"
        },
        {
          "output_type": "stream",
          "text": [
            "WARNING:tensorflow:Layers in a Sequential model should only have a single input tensor, but we receive a <class 'dict'> input: {'serum_creatinine': <tf.Tensor 'serum_creatinine:0' shape=(None, 1) dtype=float32>, 'ejection_fraction': <tf.Tensor 'ejection_fraction:0' shape=(None, 1) dtype=float32>, 'age': <tf.Tensor 'age:0' shape=(None, 1) dtype=float32>, 'serum_sodium': <tf.Tensor 'serum_sodium:0' shape=(None, 1) dtype=float32>}\n",
            "Consider rewriting this model with the Functional API.\n"
          ],
          "name": "stderr"
        },
        {
          "output_type": "stream",
          "text": [
            "WARNING:tensorflow:Layers in a Sequential model should only have a single input tensor, but we receive a <class 'dict'> input: {'serum_creatinine': <tf.Tensor 'serum_creatinine:0' shape=(None, 1) dtype=float32>, 'ejection_fraction': <tf.Tensor 'ejection_fraction:0' shape=(None, 1) dtype=float32>, 'age': <tf.Tensor 'age:0' shape=(None, 1) dtype=float32>, 'serum_sodium': <tf.Tensor 'serum_sodium:0' shape=(None, 1) dtype=float32>}\n",
            "Consider rewriting this model with the Functional API.\n"
          ],
          "name": "stdout"
        },
        {
          "output_type": "stream",
          "text": [
            "WARNING:tensorflow:Layers in a Sequential model should only have a single input tensor, but we receive a <class 'dict'> input: {'serum_creatinine': <tf.Tensor 'serum_creatinine:0' shape=(None, 1) dtype=float32>, 'ejection_fraction': <tf.Tensor 'ejection_fraction:0' shape=(None, 1) dtype=float32>, 'age': <tf.Tensor 'age:0' shape=(None, 1) dtype=float32>, 'serum_sodium': <tf.Tensor 'serum_sodium:0' shape=(None, 1) dtype=float32>}\n",
            "Consider rewriting this model with the Functional API.\n"
          ],
          "name": "stderr"
        },
        {
          "output_type": "stream",
          "text": [
            "WARNING:tensorflow:Layers in a Sequential model should only have a single input tensor, but we receive a <class 'dict'> input: {'serum_creatinine': <tf.Tensor 'inputs_2:0' shape=(None, 1) dtype=float32>, 'ejection_fraction': <tf.Tensor 'inputs_1:0' shape=(None, 1) dtype=float32>, 'age': <tf.Tensor 'inputs:0' shape=(None, 1) dtype=float32>, 'serum_sodium': <tf.Tensor 'inputs_3:0' shape=(None, 1) dtype=float32>}\n",
            "Consider rewriting this model with the Functional API.\n"
          ],
          "name": "stdout"
        },
        {
          "output_type": "stream",
          "text": [
            "WARNING:tensorflow:Layers in a Sequential model should only have a single input tensor, but we receive a <class 'dict'> input: {'serum_creatinine': <tf.Tensor 'inputs_2:0' shape=(None, 1) dtype=float32>, 'ejection_fraction': <tf.Tensor 'inputs_1:0' shape=(None, 1) dtype=float32>, 'age': <tf.Tensor 'inputs:0' shape=(None, 1) dtype=float32>, 'serum_sodium': <tf.Tensor 'inputs_3:0' shape=(None, 1) dtype=float32>}\n",
            "Consider rewriting this model with the Functional API.\n"
          ],
          "name": "stderr"
        },
        {
          "output_type": "stream",
          "text": [
            "WARNING:tensorflow:Layers in a Sequential model should only have a single input tensor, but we receive a <class 'dict'> input: {'serum_creatinine': <tf.Tensor 'inputs_2:0' shape=(None, 1) dtype=float32>, 'ejection_fraction': <tf.Tensor 'inputs_1:0' shape=(None, 1) dtype=float32>, 'age': <tf.Tensor 'inputs:0' shape=(None, 1) dtype=float32>, 'serum_sodium': <tf.Tensor 'inputs_3:0' shape=(None, 1) dtype=float32>}\n",
            "Consider rewriting this model with the Functional API.\n"
          ],
          "name": "stdout"
        },
        {
          "output_type": "stream",
          "text": [
            "WARNING:tensorflow:Layers in a Sequential model should only have a single input tensor, but we receive a <class 'dict'> input: {'serum_creatinine': <tf.Tensor 'inputs_2:0' shape=(None, 1) dtype=float32>, 'ejection_fraction': <tf.Tensor 'inputs_1:0' shape=(None, 1) dtype=float32>, 'age': <tf.Tensor 'inputs:0' shape=(None, 1) dtype=float32>, 'serum_sodium': <tf.Tensor 'inputs_3:0' shape=(None, 1) dtype=float32>}\n",
            "Consider rewriting this model with the Functional API.\n"
          ],
          "name": "stderr"
        },
        {
          "output_type": "stream",
          "text": [
            "WARNING:tensorflow:Layers in a Sequential model should only have a single input tensor, but we receive a <class 'dict'> input: {'serum_creatinine': <tf.Tensor 'inputs/serum_creatinine:0' shape=(None, 1) dtype=float32>, 'ejection_fraction': <tf.Tensor 'inputs/ejection_fraction:0' shape=(None, 1) dtype=float32>, 'age': <tf.Tensor 'inputs/age:0' shape=(None, 1) dtype=float32>, 'serum_sodium': <tf.Tensor 'inputs/serum_sodium:0' shape=(None, 1) dtype=float32>}\n",
            "Consider rewriting this model with the Functional API.\n"
          ],
          "name": "stdout"
        },
        {
          "output_type": "stream",
          "text": [
            "WARNING:tensorflow:Layers in a Sequential model should only have a single input tensor, but we receive a <class 'dict'> input: {'serum_creatinine': <tf.Tensor 'inputs/serum_creatinine:0' shape=(None, 1) dtype=float32>, 'ejection_fraction': <tf.Tensor 'inputs/ejection_fraction:0' shape=(None, 1) dtype=float32>, 'age': <tf.Tensor 'inputs/age:0' shape=(None, 1) dtype=float32>, 'serum_sodium': <tf.Tensor 'inputs/serum_sodium:0' shape=(None, 1) dtype=float32>}\n",
            "Consider rewriting this model with the Functional API.\n"
          ],
          "name": "stderr"
        },
        {
          "output_type": "stream",
          "text": [
            "WARNING:tensorflow:Layers in a Sequential model should only have a single input tensor, but we receive a <class 'dict'> input: {'serum_creatinine': <tf.Tensor 'inputs/serum_creatinine:0' shape=(None, 1) dtype=float32>, 'ejection_fraction': <tf.Tensor 'inputs/ejection_fraction:0' shape=(None, 1) dtype=float32>, 'age': <tf.Tensor 'inputs/age:0' shape=(None, 1) dtype=float32>, 'serum_sodium': <tf.Tensor 'inputs/serum_sodium:0' shape=(None, 1) dtype=float32>}\n",
            "Consider rewriting this model with the Functional API.\n"
          ],
          "name": "stdout"
        },
        {
          "output_type": "stream",
          "text": [
            "WARNING:tensorflow:Layers in a Sequential model should only have a single input tensor, but we receive a <class 'dict'> input: {'serum_creatinine': <tf.Tensor 'inputs/serum_creatinine:0' shape=(None, 1) dtype=float32>, 'ejection_fraction': <tf.Tensor 'inputs/ejection_fraction:0' shape=(None, 1) dtype=float32>, 'age': <tf.Tensor 'inputs/age:0' shape=(None, 1) dtype=float32>, 'serum_sodium': <tf.Tensor 'inputs/serum_sodium:0' shape=(None, 1) dtype=float32>}\n",
            "Consider rewriting this model with the Functional API.\n"
          ],
          "name": "stderr"
        },
        {
          "output_type": "stream",
          "text": [
            "WARNING:tensorflow:Layers in a Sequential model should only have a single input tensor, but we receive a <class 'dict'> input: {'serum_creatinine': <tf.Tensor 'serum_creatinine:0' shape=(None, 1) dtype=float32>, 'ejection_fraction': <tf.Tensor 'ejection_fraction:0' shape=(None, 1) dtype=float32>, 'age': <tf.Tensor 'age:0' shape=(None, 1) dtype=float32>, 'serum_sodium': <tf.Tensor 'serum_sodium:0' shape=(None, 1) dtype=float32>}\n",
            "Consider rewriting this model with the Functional API.\n"
          ],
          "name": "stdout"
        },
        {
          "output_type": "stream",
          "text": [
            "WARNING:tensorflow:Layers in a Sequential model should only have a single input tensor, but we receive a <class 'dict'> input: {'serum_creatinine': <tf.Tensor 'serum_creatinine:0' shape=(None, 1) dtype=float32>, 'ejection_fraction': <tf.Tensor 'ejection_fraction:0' shape=(None, 1) dtype=float32>, 'age': <tf.Tensor 'age:0' shape=(None, 1) dtype=float32>, 'serum_sodium': <tf.Tensor 'serum_sodium:0' shape=(None, 1) dtype=float32>}\n",
            "Consider rewriting this model with the Functional API.\n"
          ],
          "name": "stderr"
        },
        {
          "output_type": "stream",
          "text": [
            "WARNING:tensorflow:Layers in a Sequential model should only have a single input tensor, but we receive a <class 'dict'> input: {'serum_creatinine': <tf.Tensor 'serum_creatinine:0' shape=(None, 1) dtype=float32>, 'ejection_fraction': <tf.Tensor 'ejection_fraction:0' shape=(None, 1) dtype=float32>, 'age': <tf.Tensor 'age:0' shape=(None, 1) dtype=float32>, 'serum_sodium': <tf.Tensor 'serum_sodium:0' shape=(None, 1) dtype=float32>}\n",
            "Consider rewriting this model with the Functional API.\n"
          ],
          "name": "stdout"
        },
        {
          "output_type": "stream",
          "text": [
            "WARNING:tensorflow:Layers in a Sequential model should only have a single input tensor, but we receive a <class 'dict'> input: {'serum_creatinine': <tf.Tensor 'serum_creatinine:0' shape=(None, 1) dtype=float32>, 'ejection_fraction': <tf.Tensor 'ejection_fraction:0' shape=(None, 1) dtype=float32>, 'age': <tf.Tensor 'age:0' shape=(None, 1) dtype=float32>, 'serum_sodium': <tf.Tensor 'serum_sodium:0' shape=(None, 1) dtype=float32>}\n",
            "Consider rewriting this model with the Functional API.\n"
          ],
          "name": "stderr"
        },
        {
          "output_type": "stream",
          "text": [
            "INFO:tensorflow:Assets written to: /tmp/tmpmsxd2bln/assets\n"
          ],
          "name": "stdout"
        },
        {
          "output_type": "stream",
          "text": [
            "INFO:tensorflow:Assets written to: /tmp/tmpmsxd2bln/assets\n"
          ],
          "name": "stderr"
        },
        {
          "output_type": "stream",
          "text": [
            "WARNING:tensorflow:Layers in a Sequential model should only have a single input tensor, but we receive a <class 'dict'> input: {'serum_creatinine': <tf.Tensor 'serum_creatinine:0' shape=(4, 1) dtype=float32>, 'ejection_fraction': <tf.Tensor 'ejection_fraction:0' shape=(4, 1) dtype=float32>, 'age': <tf.Tensor 'age:0' shape=(4, 1) dtype=float32>, 'serum_sodium': <tf.Tensor 'serum_sodium:0' shape=(4, 1) dtype=float32>}\n",
            "Consider rewriting this model with the Functional API.\n"
          ],
          "name": "stdout"
        },
        {
          "output_type": "stream",
          "text": [
            "WARNING:tensorflow:Layers in a Sequential model should only have a single input tensor, but we receive a <class 'dict'> input: {'serum_creatinine': <tf.Tensor 'serum_creatinine:0' shape=(4, 1) dtype=float32>, 'ejection_fraction': <tf.Tensor 'ejection_fraction:0' shape=(4, 1) dtype=float32>, 'age': <tf.Tensor 'age:0' shape=(4, 1) dtype=float32>, 'serum_sodium': <tf.Tensor 'serum_sodium:0' shape=(4, 1) dtype=float32>}\n",
            "Consider rewriting this model with the Functional API.\n"
          ],
          "name": "stderr"
        },
        {
          "output_type": "display_data",
          "data": {
            "application/javascript": [
              "\n",
              "    async function download(id, filename, size) {\n",
              "      if (!google.colab.kernel.accessAllowed) {\n",
              "        return;\n",
              "      }\n",
              "      const div = document.createElement('div');\n",
              "      const label = document.createElement('label');\n",
              "      label.textContent = `Downloading \"${filename}\": `;\n",
              "      div.appendChild(label);\n",
              "      const progress = document.createElement('progress');\n",
              "      progress.max = size;\n",
              "      div.appendChild(progress);\n",
              "      document.body.appendChild(div);\n",
              "\n",
              "      const buffers = [];\n",
              "      let downloaded = 0;\n",
              "\n",
              "      const channel = await google.colab.kernel.comms.open(id);\n",
              "      // Send a message to notify the kernel that we're ready.\n",
              "      channel.send({})\n",
              "\n",
              "      for await (const message of channel.messages) {\n",
              "        // Send a message to notify the kernel that we're ready.\n",
              "        channel.send({})\n",
              "        if (message.buffers) {\n",
              "          for (const buffer of message.buffers) {\n",
              "            buffers.push(buffer);\n",
              "            downloaded += buffer.byteLength;\n",
              "            progress.value = downloaded;\n",
              "          }\n",
              "        }\n",
              "      }\n",
              "      const blob = new Blob(buffers, {type: 'application/binary'});\n",
              "      const a = document.createElement('a');\n",
              "      a.href = window.URL.createObjectURL(blob);\n",
              "      a.download = filename;\n",
              "      div.appendChild(a);\n",
              "      a.click();\n",
              "      div.remove();\n",
              "    }\n",
              "  "
            ],
            "text/plain": [
              "<IPython.core.display.Javascript object>"
            ]
          },
          "metadata": {
            "tags": []
          }
        },
        {
          "output_type": "display_data",
          "data": {
            "application/javascript": [
              "download(\"download_07b3a573-21aa-4ef0-91c2-140b88ecdaf6\", \"model.tflite\", 1256)"
            ],
            "text/plain": [
              "<IPython.core.display.Javascript object>"
            ]
          },
          "metadata": {
            "tags": []
          }
        }
      ]
    }
  ]
}